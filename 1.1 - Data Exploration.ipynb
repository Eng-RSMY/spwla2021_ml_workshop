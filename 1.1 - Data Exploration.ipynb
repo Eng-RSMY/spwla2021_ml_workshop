{
 "cells": [
  {
   "cell_type": "markdown",
   "metadata": {},
   "source": [
    "# Data Exploration "
   ]
  },
  {
   "cell_type": "markdown",
   "metadata": {},
   "source": [
    "Exploratory Data Analysis (EDA) is an important step within a data science workflow. It allows you to become familiar with your data and understand it's contents, extent and variation. Within this stage, you can identify patterns within the data and also relationships between the features (well logs).\n",
    "\n",
    "As petrophysicists/geoscientists we commonly use log plots, histograms and crossplots (scatter plots) to analyse and explore well log data. Python provides a great toolset for visualising the data from different perspectives in a quick and easy way.\n",
    "\n",
    "In this workbook, we will cover:\n",
    "- Reading in data from a CSV file\n",
    "- Viewing data on a log plot\n",
    "- Viewing data on a crossplot / scatter plot\n",
    "- Viewing data on a histogram\n",
    "- Visualising all well log curves on a crossplot and histogram using a pairplot"
   ]
  },
  {
   "cell_type": "markdown",
   "metadata": {},
   "source": [
    "The first step is to import the libraries that we require. These will be:\n",
    "- pandas for load and storing the data\n",
    "- matplotlib and seaborn for visualising the data\n",
    "- numpy for a number of calculation methods"
   ]
  },
  {
   "cell_type": "code",
   "execution_count": 1,
   "metadata": {},
   "outputs": [],
   "source": [
    "import pandas as pd\n",
    "import matplotlib.pyplot as plt\n",
    "import numpy as np\n",
    "import seaborn as sns"
   ]
  },
  {
   "cell_type": "markdown",
   "metadata": {},
   "source": [
    "Next, we will load the data in using the pandas `read_csv` function and assign it to the variable `df`. The data will now be stored within a structured object known as a dataframe."
   ]
  },
  {
   "cell_type": "code",
   "execution_count": 2,
   "metadata": {},
   "outputs": [],
   "source": [
    "df = pd.read_csv('data/spwla_volve_data.csv')"
   ]
  },
  {
   "cell_type": "markdown",
   "metadata": {},
   "source": [
    "The first step after loading in a dataset it to check its contents. The first method `.describe()` provides summary statistics of each numeric column within the dataframe. We can gain information such as the number of points, the mean, the standard deviation, min and max values, and the percentile values."
   ]
  },
  {
   "cell_type": "code",
   "execution_count": 3,
   "metadata": {},
   "outputs": [
    {
     "data": {
      "text/html": [
       "<div>\n",
       "<style scoped>\n",
       "    .dataframe tbody tr th:only-of-type {\n",
       "        vertical-align: middle;\n",
       "    }\n",
       "\n",
       "    .dataframe tbody tr th {\n",
       "        vertical-align: top;\n",
       "    }\n",
       "\n",
       "    .dataframe thead th {\n",
       "        text-align: right;\n",
       "    }\n",
       "</style>\n",
       "<table border=\"1\" class=\"dataframe\">\n",
       "  <thead>\n",
       "    <tr style=\"text-align: right;\">\n",
       "      <th></th>\n",
       "      <th>MD</th>\n",
       "      <th>BS</th>\n",
       "      <th>CALI</th>\n",
       "      <th>DT</th>\n",
       "      <th>DTS</th>\n",
       "      <th>GR</th>\n",
       "      <th>NPHI</th>\n",
       "      <th>RACEHM</th>\n",
       "      <th>RACELM</th>\n",
       "      <th>RHOB</th>\n",
       "      <th>RPCEHM</th>\n",
       "      <th>RPCELM</th>\n",
       "      <th>PHIF</th>\n",
       "      <th>SW</th>\n",
       "      <th>VSH</th>\n",
       "    </tr>\n",
       "  </thead>\n",
       "  <tbody>\n",
       "    <tr>\n",
       "      <th>count</th>\n",
       "      <td>27845.000000</td>\n",
       "      <td>27845.0</td>\n",
       "      <td>27845.000000</td>\n",
       "      <td>5493.000000</td>\n",
       "      <td>5420.000000</td>\n",
       "      <td>27845.000000</td>\n",
       "      <td>27845.000000</td>\n",
       "      <td>27845.000000</td>\n",
       "      <td>27845.000000</td>\n",
       "      <td>27845.000000</td>\n",
       "      <td>27845.000000</td>\n",
       "      <td>27600.000000</td>\n",
       "      <td>27736.000000</td>\n",
       "      <td>27736.000000</td>\n",
       "      <td>2.784400e+04</td>\n",
       "    </tr>\n",
       "    <tr>\n",
       "      <th>mean</th>\n",
       "      <td>3816.224960</td>\n",
       "      <td>8.5</td>\n",
       "      <td>8.625875</td>\n",
       "      <td>78.000104</td>\n",
       "      <td>131.027912</td>\n",
       "      <td>38.529140</td>\n",
       "      <td>0.188131</td>\n",
       "      <td>352.689922</td>\n",
       "      <td>97.558930</td>\n",
       "      <td>2.379268</td>\n",
       "      <td>1561.079977</td>\n",
       "      <td>30.041154</td>\n",
       "      <td>0.157434</td>\n",
       "      <td>0.531684</td>\n",
       "      <td>2.724204e-01</td>\n",
       "    </tr>\n",
       "    <tr>\n",
       "      <th>std</th>\n",
       "      <td>398.843662</td>\n",
       "      <td>0.0</td>\n",
       "      <td>0.079941</td>\n",
       "      <td>7.730495</td>\n",
       "      <td>13.230939</td>\n",
       "      <td>21.814711</td>\n",
       "      <td>0.053390</td>\n",
       "      <td>1367.355219</td>\n",
       "      <td>395.725094</td>\n",
       "      <td>0.162293</td>\n",
       "      <td>9570.308431</td>\n",
       "      <td>210.915588</td>\n",
       "      <td>0.075957</td>\n",
       "      <td>0.353637</td>\n",
       "      <td>1.872371e-01</td>\n",
       "    </tr>\n",
       "    <tr>\n",
       "      <th>min</th>\n",
       "      <td>3223.000000</td>\n",
       "      <td>8.5</td>\n",
       "      <td>8.304900</td>\n",
       "      <td>54.280000</td>\n",
       "      <td>83.574000</td>\n",
       "      <td>6.869100</td>\n",
       "      <td>0.024000</td>\n",
       "      <td>0.197400</td>\n",
       "      <td>0.234900</td>\n",
       "      <td>1.627000</td>\n",
       "      <td>0.139000</td>\n",
       "      <td>0.136600</td>\n",
       "      <td>0.001000</td>\n",
       "      <td>0.043000</td>\n",
       "      <td>1.820000e-15</td>\n",
       "    </tr>\n",
       "    <tr>\n",
       "      <th>25%</th>\n",
       "      <td>3503.000000</td>\n",
       "      <td>8.5</td>\n",
       "      <td>8.556900</td>\n",
       "      <td>72.562500</td>\n",
       "      <td>123.403425</td>\n",
       "      <td>21.128200</td>\n",
       "      <td>0.157000</td>\n",
       "      <td>1.856400</td>\n",
       "      <td>1.781000</td>\n",
       "      <td>2.240000</td>\n",
       "      <td>2.148300</td>\n",
       "      <td>1.884000</td>\n",
       "      <td>0.091000</td>\n",
       "      <td>0.201000</td>\n",
       "      <td>1.258000e-01</td>\n",
       "    </tr>\n",
       "    <tr>\n",
       "      <th>50%</th>\n",
       "      <td>3713.300000</td>\n",
       "      <td>8.5</td>\n",
       "      <td>8.625000</td>\n",
       "      <td>77.228000</td>\n",
       "      <td>131.864350</td>\n",
       "      <td>35.071000</td>\n",
       "      <td>0.183900</td>\n",
       "      <td>4.035800</td>\n",
       "      <td>3.681200</td>\n",
       "      <td>2.356000</td>\n",
       "      <td>5.136800</td>\n",
       "      <td>4.195400</td>\n",
       "      <td>0.178000</td>\n",
       "      <td>0.433000</td>\n",
       "      <td>2.400000e-01</td>\n",
       "    </tr>\n",
       "    <tr>\n",
       "      <th>75%</th>\n",
       "      <td>4057.000000</td>\n",
       "      <td>8.5</td>\n",
       "      <td>8.672000</td>\n",
       "      <td>84.342900</td>\n",
       "      <td>138.017500</td>\n",
       "      <td>49.178300</td>\n",
       "      <td>0.215200</td>\n",
       "      <td>14.929000</td>\n",
       "      <td>8.891000</td>\n",
       "      <td>2.502500</td>\n",
       "      <td>24.687400</td>\n",
       "      <td>14.782650</td>\n",
       "      <td>0.225000</td>\n",
       "      <td>1.000000</td>\n",
       "      <td>3.540000e-01</td>\n",
       "    </tr>\n",
       "    <tr>\n",
       "      <th>max</th>\n",
       "      <td>4744.000000</td>\n",
       "      <td>8.5</td>\n",
       "      <td>9.175000</td>\n",
       "      <td>96.277600</td>\n",
       "      <td>186.090800</td>\n",
       "      <td>127.055700</td>\n",
       "      <td>0.541000</td>\n",
       "      <td>6381.099100</td>\n",
       "      <td>2189.603000</td>\n",
       "      <td>3.090000</td>\n",
       "      <td>62290.770000</td>\n",
       "      <td>5571.435100</td>\n",
       "      <td>0.292000</td>\n",
       "      <td>1.000000</td>\n",
       "      <td>1.000000e+00</td>\n",
       "    </tr>\n",
       "  </tbody>\n",
       "</table>\n",
       "</div>"
      ],
      "text/plain": [
       "                 MD       BS          CALI           DT          DTS  \\\n",
       "count  27845.000000  27845.0  27845.000000  5493.000000  5420.000000   \n",
       "mean    3816.224960      8.5      8.625875    78.000104   131.027912   \n",
       "std      398.843662      0.0      0.079941     7.730495    13.230939   \n",
       "min     3223.000000      8.5      8.304900    54.280000    83.574000   \n",
       "25%     3503.000000      8.5      8.556900    72.562500   123.403425   \n",
       "50%     3713.300000      8.5      8.625000    77.228000   131.864350   \n",
       "75%     4057.000000      8.5      8.672000    84.342900   138.017500   \n",
       "max     4744.000000      8.5      9.175000    96.277600   186.090800   \n",
       "\n",
       "                 GR          NPHI        RACEHM        RACELM          RHOB  \\\n",
       "count  27845.000000  27845.000000  27845.000000  27845.000000  27845.000000   \n",
       "mean      38.529140      0.188131    352.689922     97.558930      2.379268   \n",
       "std       21.814711      0.053390   1367.355219    395.725094      0.162293   \n",
       "min        6.869100      0.024000      0.197400      0.234900      1.627000   \n",
       "25%       21.128200      0.157000      1.856400      1.781000      2.240000   \n",
       "50%       35.071000      0.183900      4.035800      3.681200      2.356000   \n",
       "75%       49.178300      0.215200     14.929000      8.891000      2.502500   \n",
       "max      127.055700      0.541000   6381.099100   2189.603000      3.090000   \n",
       "\n",
       "             RPCEHM        RPCELM          PHIF            SW           VSH  \n",
       "count  27845.000000  27600.000000  27736.000000  27736.000000  2.784400e+04  \n",
       "mean    1561.079977     30.041154      0.157434      0.531684  2.724204e-01  \n",
       "std     9570.308431    210.915588      0.075957      0.353637  1.872371e-01  \n",
       "min        0.139000      0.136600      0.001000      0.043000  1.820000e-15  \n",
       "25%        2.148300      1.884000      0.091000      0.201000  1.258000e-01  \n",
       "50%        5.136800      4.195400      0.178000      0.433000  2.400000e-01  \n",
       "75%       24.687400     14.782650      0.225000      1.000000  3.540000e-01  \n",
       "max    62290.770000   5571.435100      0.292000      1.000000  1.000000e+00  "
      ]
     },
     "execution_count": 3,
     "metadata": {},
     "output_type": "execute_result"
    }
   ],
   "source": [
    "df.describe()"
   ]
  },
  {
   "cell_type": "markdown",
   "metadata": {},
   "source": [
    "The next method we can call upon is `info()`. This provides a list of all of the columns within the dataframe, their data type (e.g, float, integer, string, etc.), and the number of non-null values."
   ]
  },
  {
   "cell_type": "code",
   "execution_count": 4,
   "metadata": {},
   "outputs": [
    {
     "name": "stdout",
     "output_type": "stream",
     "text": [
      "<class 'pandas.core.frame.DataFrame'>\n",
      "RangeIndex: 27845 entries, 0 to 27844\n",
      "Data columns (total 16 columns):\n",
      "wellName    27845 non-null object\n",
      "MD          27845 non-null float64\n",
      "BS          27845 non-null float64\n",
      "CALI        27845 non-null float64\n",
      "DT          5493 non-null float64\n",
      "DTS         5420 non-null float64\n",
      "GR          27845 non-null float64\n",
      "NPHI        27845 non-null float64\n",
      "RACEHM      27845 non-null float64\n",
      "RACELM      27845 non-null float64\n",
      "RHOB        27845 non-null float64\n",
      "RPCEHM      27845 non-null float64\n",
      "RPCELM      27600 non-null float64\n",
      "PHIF        27736 non-null float64\n",
      "SW          27736 non-null float64\n",
      "VSH         27844 non-null float64\n",
      "dtypes: float64(15), object(1)\n",
      "memory usage: 3.4+ MB\n"
     ]
    }
   ],
   "source": [
    "df.info()"
   ]
  },
  {
   "cell_type": "markdown",
   "metadata": {},
   "source": [
    "## Data Visualisation"
   ]
  },
  {
   "cell_type": "markdown",
   "metadata": {},
   "source": [
    "The next useful set of methods available to us is the `head()` and `.tail()` functions. These return the first / last five rows of the dataframe"
   ]
  },
  {
   "cell_type": "code",
   "execution_count": 5,
   "metadata": {},
   "outputs": [
    {
     "data": {
      "text/html": [
       "<div>\n",
       "<style scoped>\n",
       "    .dataframe tbody tr th:only-of-type {\n",
       "        vertical-align: middle;\n",
       "    }\n",
       "\n",
       "    .dataframe tbody tr th {\n",
       "        vertical-align: top;\n",
       "    }\n",
       "\n",
       "    .dataframe thead th {\n",
       "        text-align: right;\n",
       "    }\n",
       "</style>\n",
       "<table border=\"1\" class=\"dataframe\">\n",
       "  <thead>\n",
       "    <tr style=\"text-align: right;\">\n",
       "      <th></th>\n",
       "      <th>wellName</th>\n",
       "      <th>MD</th>\n",
       "      <th>BS</th>\n",
       "      <th>CALI</th>\n",
       "      <th>DT</th>\n",
       "      <th>DTS</th>\n",
       "      <th>GR</th>\n",
       "      <th>NPHI</th>\n",
       "      <th>RACEHM</th>\n",
       "      <th>RACELM</th>\n",
       "      <th>RHOB</th>\n",
       "      <th>RPCEHM</th>\n",
       "      <th>RPCELM</th>\n",
       "      <th>PHIF</th>\n",
       "      <th>SW</th>\n",
       "      <th>VSH</th>\n",
       "    </tr>\n",
       "  </thead>\n",
       "  <tbody>\n",
       "    <tr>\n",
       "      <th>0</th>\n",
       "      <td>15/9-F-1 A</td>\n",
       "      <td>3431.0</td>\n",
       "      <td>8.5</td>\n",
       "      <td>8.6718</td>\n",
       "      <td>86.9092</td>\n",
       "      <td>181.2241</td>\n",
       "      <td>53.9384</td>\n",
       "      <td>0.3222</td>\n",
       "      <td>0.5084</td>\n",
       "      <td>0.8457</td>\n",
       "      <td>2.7514</td>\n",
       "      <td>0.6461</td>\n",
       "      <td>0.6467</td>\n",
       "      <td>0.02</td>\n",
       "      <td>1.0</td>\n",
       "      <td>0.6807</td>\n",
       "    </tr>\n",
       "    <tr>\n",
       "      <th>1</th>\n",
       "      <td>15/9-F-1 A</td>\n",
       "      <td>3431.1</td>\n",
       "      <td>8.5</td>\n",
       "      <td>8.6250</td>\n",
       "      <td>86.4334</td>\n",
       "      <td>181.1311</td>\n",
       "      <td>57.2889</td>\n",
       "      <td>0.3239</td>\n",
       "      <td>0.4695</td>\n",
       "      <td>0.8145</td>\n",
       "      <td>2.7978</td>\n",
       "      <td>0.7543</td>\n",
       "      <td>0.6570</td>\n",
       "      <td>0.02</td>\n",
       "      <td>1.0</td>\n",
       "      <td>0.7316</td>\n",
       "    </tr>\n",
       "    <tr>\n",
       "      <th>2</th>\n",
       "      <td>15/9-F-1 A</td>\n",
       "      <td>3431.2</td>\n",
       "      <td>8.5</td>\n",
       "      <td>8.6250</td>\n",
       "      <td>85.9183</td>\n",
       "      <td>180.9487</td>\n",
       "      <td>59.0455</td>\n",
       "      <td>0.3277</td>\n",
       "      <td>0.5012</td>\n",
       "      <td>0.8048</td>\n",
       "      <td>2.8352</td>\n",
       "      <td>0.8718</td>\n",
       "      <td>0.6858</td>\n",
       "      <td>0.02</td>\n",
       "      <td>1.0</td>\n",
       "      <td>0.7583</td>\n",
       "    </tr>\n",
       "    <tr>\n",
       "      <th>3</th>\n",
       "      <td>15/9-F-1 A</td>\n",
       "      <td>3431.3</td>\n",
       "      <td>8.5</td>\n",
       "      <td>8.6250</td>\n",
       "      <td>85.3834</td>\n",
       "      <td>180.7211</td>\n",
       "      <td>58.2550</td>\n",
       "      <td>0.3357</td>\n",
       "      <td>0.6048</td>\n",
       "      <td>0.7984</td>\n",
       "      <td>2.8557</td>\n",
       "      <td>0.9451</td>\n",
       "      <td>0.7913</td>\n",
       "      <td>0.02</td>\n",
       "      <td>1.0</td>\n",
       "      <td>0.7462</td>\n",
       "    </tr>\n",
       "    <tr>\n",
       "      <th>4</th>\n",
       "      <td>15/9-F-1 A</td>\n",
       "      <td>3431.4</td>\n",
       "      <td>8.5</td>\n",
       "      <td>8.6250</td>\n",
       "      <td>84.8484</td>\n",
       "      <td>180.4930</td>\n",
       "      <td>59.4569</td>\n",
       "      <td>0.3456</td>\n",
       "      <td>0.7115</td>\n",
       "      <td>0.7782</td>\n",
       "      <td>2.8632</td>\n",
       "      <td>1.0384</td>\n",
       "      <td>0.8730</td>\n",
       "      <td>0.02</td>\n",
       "      <td>1.0</td>\n",
       "      <td>0.7646</td>\n",
       "    </tr>\n",
       "  </tbody>\n",
       "</table>\n",
       "</div>"
      ],
      "text/plain": [
       "     wellName      MD   BS    CALI       DT       DTS       GR    NPHI  \\\n",
       "0  15/9-F-1 A  3431.0  8.5  8.6718  86.9092  181.2241  53.9384  0.3222   \n",
       "1  15/9-F-1 A  3431.1  8.5  8.6250  86.4334  181.1311  57.2889  0.3239   \n",
       "2  15/9-F-1 A  3431.2  8.5  8.6250  85.9183  180.9487  59.0455  0.3277   \n",
       "3  15/9-F-1 A  3431.3  8.5  8.6250  85.3834  180.7211  58.2550  0.3357   \n",
       "4  15/9-F-1 A  3431.4  8.5  8.6250  84.8484  180.4930  59.4569  0.3456   \n",
       "\n",
       "   RACEHM  RACELM    RHOB  RPCEHM  RPCELM  PHIF   SW     VSH  \n",
       "0  0.5084  0.8457  2.7514  0.6461  0.6467  0.02  1.0  0.6807  \n",
       "1  0.4695  0.8145  2.7978  0.7543  0.6570  0.02  1.0  0.7316  \n",
       "2  0.5012  0.8048  2.8352  0.8718  0.6858  0.02  1.0  0.7583  \n",
       "3  0.6048  0.7984  2.8557  0.9451  0.7913  0.02  1.0  0.7462  \n",
       "4  0.7115  0.7782  2.8632  1.0384  0.8730  0.02  1.0  0.7646  "
      ]
     },
     "execution_count": 5,
     "metadata": {},
     "output_type": "execute_result"
    }
   ],
   "source": [
    "df.head()"
   ]
  },
  {
   "cell_type": "code",
   "execution_count": 6,
   "metadata": {},
   "outputs": [
    {
     "data": {
      "text/html": [
       "<div>\n",
       "<style scoped>\n",
       "    .dataframe tbody tr th:only-of-type {\n",
       "        vertical-align: middle;\n",
       "    }\n",
       "\n",
       "    .dataframe tbody tr th {\n",
       "        vertical-align: top;\n",
       "    }\n",
       "\n",
       "    .dataframe thead th {\n",
       "        text-align: right;\n",
       "    }\n",
       "</style>\n",
       "<table border=\"1\" class=\"dataframe\">\n",
       "  <thead>\n",
       "    <tr style=\"text-align: right;\">\n",
       "      <th></th>\n",
       "      <th>wellName</th>\n",
       "      <th>MD</th>\n",
       "      <th>BS</th>\n",
       "      <th>CALI</th>\n",
       "      <th>DT</th>\n",
       "      <th>DTS</th>\n",
       "      <th>GR</th>\n",
       "      <th>NPHI</th>\n",
       "      <th>RACEHM</th>\n",
       "      <th>RACELM</th>\n",
       "      <th>RHOB</th>\n",
       "      <th>RPCEHM</th>\n",
       "      <th>RPCELM</th>\n",
       "      <th>PHIF</th>\n",
       "      <th>SW</th>\n",
       "      <th>VSH</th>\n",
       "    </tr>\n",
       "  </thead>\n",
       "  <tbody>\n",
       "    <tr>\n",
       "      <th>27840</th>\n",
       "      <td>15/9-F-11 B</td>\n",
       "      <td>4743.6</td>\n",
       "      <td>8.5</td>\n",
       "      <td>8.875</td>\n",
       "      <td>NaN</td>\n",
       "      <td>NaN</td>\n",
       "      <td>19.561</td>\n",
       "      <td>0.109</td>\n",
       "      <td>1.789</td>\n",
       "      <td>1.768</td>\n",
       "      <td>2.493</td>\n",
       "      <td>3.985</td>\n",
       "      <td>2.194</td>\n",
       "      <td>0.107</td>\n",
       "      <td>0.621</td>\n",
       "      <td>0.146</td>\n",
       "    </tr>\n",
       "    <tr>\n",
       "      <th>27841</th>\n",
       "      <td>15/9-F-11 B</td>\n",
       "      <td>4743.7</td>\n",
       "      <td>8.5</td>\n",
       "      <td>8.851</td>\n",
       "      <td>NaN</td>\n",
       "      <td>NaN</td>\n",
       "      <td>16.974</td>\n",
       "      <td>0.116</td>\n",
       "      <td>1.719</td>\n",
       "      <td>1.751</td>\n",
       "      <td>2.468</td>\n",
       "      <td>3.158</td>\n",
       "      <td>1.996</td>\n",
       "      <td>0.119</td>\n",
       "      <td>0.624</td>\n",
       "      <td>0.120</td>\n",
       "    </tr>\n",
       "    <tr>\n",
       "      <th>27842</th>\n",
       "      <td>15/9-F-11 B</td>\n",
       "      <td>4743.8</td>\n",
       "      <td>8.5</td>\n",
       "      <td>8.804</td>\n",
       "      <td>NaN</td>\n",
       "      <td>NaN</td>\n",
       "      <td>14.334</td>\n",
       "      <td>0.117</td>\n",
       "      <td>1.737</td>\n",
       "      <td>1.760</td>\n",
       "      <td>2.443</td>\n",
       "      <td>2.248</td>\n",
       "      <td>1.796</td>\n",
       "      <td>0.128</td>\n",
       "      <td>0.670</td>\n",
       "      <td>0.093</td>\n",
       "    </tr>\n",
       "    <tr>\n",
       "      <th>27843</th>\n",
       "      <td>15/9-F-11 B</td>\n",
       "      <td>4743.9</td>\n",
       "      <td>8.5</td>\n",
       "      <td>8.726</td>\n",
       "      <td>NaN</td>\n",
       "      <td>NaN</td>\n",
       "      <td>12.617</td>\n",
       "      <td>0.114</td>\n",
       "      <td>1.719</td>\n",
       "      <td>1.767</td>\n",
       "      <td>2.427</td>\n",
       "      <td>1.670</td>\n",
       "      <td>1.600</td>\n",
       "      <td>0.132</td>\n",
       "      <td>0.736</td>\n",
       "      <td>0.076</td>\n",
       "    </tr>\n",
       "    <tr>\n",
       "      <th>27844</th>\n",
       "      <td>15/9-F-11 B</td>\n",
       "      <td>4744.0</td>\n",
       "      <td>8.5</td>\n",
       "      <td>8.672</td>\n",
       "      <td>NaN</td>\n",
       "      <td>NaN</td>\n",
       "      <td>12.828</td>\n",
       "      <td>0.106</td>\n",
       "      <td>1.669</td>\n",
       "      <td>1.777</td>\n",
       "      <td>2.424</td>\n",
       "      <td>1.317</td>\n",
       "      <td>1.467</td>\n",
       "      <td>0.130</td>\n",
       "      <td>0.822</td>\n",
       "      <td>0.078</td>\n",
       "    </tr>\n",
       "  </tbody>\n",
       "</table>\n",
       "</div>"
      ],
      "text/plain": [
       "          wellName      MD   BS   CALI  DT  DTS      GR   NPHI  RACEHM  \\\n",
       "27840  15/9-F-11 B  4743.6  8.5  8.875 NaN  NaN  19.561  0.109   1.789   \n",
       "27841  15/9-F-11 B  4743.7  8.5  8.851 NaN  NaN  16.974  0.116   1.719   \n",
       "27842  15/9-F-11 B  4743.8  8.5  8.804 NaN  NaN  14.334  0.117   1.737   \n",
       "27843  15/9-F-11 B  4743.9  8.5  8.726 NaN  NaN  12.617  0.114   1.719   \n",
       "27844  15/9-F-11 B  4744.0  8.5  8.672 NaN  NaN  12.828  0.106   1.669   \n",
       "\n",
       "       RACELM   RHOB  RPCEHM  RPCELM   PHIF     SW    VSH  \n",
       "27840   1.768  2.493   3.985   2.194  0.107  0.621  0.146  \n",
       "27841   1.751  2.468   3.158   1.996  0.119  0.624  0.120  \n",
       "27842   1.760  2.443   2.248   1.796  0.128  0.670  0.093  \n",
       "27843   1.767  2.427   1.670   1.600  0.132  0.736  0.076  \n",
       "27844   1.777  2.424   1.317   1.467  0.130  0.822  0.078  "
      ]
     },
     "execution_count": 6,
     "metadata": {},
     "output_type": "execute_result"
    }
   ],
   "source": [
    "df.tail()"
   ]
  },
  {
   "cell_type": "markdown",
   "metadata": {},
   "source": [
    "We know from the introduction that we should have 5 wells within this dataset. We can check that out by calling upon the wellName column and using the method `.unique()`. This will return back an array listing all of the unique values within that column."
   ]
  },
  {
   "cell_type": "code",
   "execution_count": 7,
   "metadata": {},
   "outputs": [
    {
     "data": {
      "text/plain": [
       "array(['15/9-F-1 A', '15/9-F-1 B', '15/9-F-1 C', '15/9-F-11 A',\n",
       "       '15/9-F-11 B'], dtype=object)"
      ]
     },
     "execution_count": 7,
     "metadata": {},
     "output_type": "execute_result"
    }
   ],
   "source": [
    "df['wellName'].unique()"
   ]
  },
  {
   "cell_type": "markdown",
   "metadata": {},
   "source": [
    "As seen above, we can call upon specific columns within the dataframe by name. If we do this for a numeric column, such as CALI, we will return a pandas series containing the first 5 values, last 5 values, and details about that column."
   ]
  },
  {
   "cell_type": "code",
   "execution_count": 10,
   "metadata": {},
   "outputs": [
    {
     "data": {
      "text/plain": [
       "0        8.6718\n",
       "1        8.6250\n",
       "2        8.6250\n",
       "3        8.6250\n",
       "4        8.6250\n",
       "          ...  \n",
       "27840    8.8750\n",
       "27841    8.8510\n",
       "27842    8.8040\n",
       "27843    8.7260\n",
       "27844    8.6720\n",
       "Name: CALI, Length: 27845, dtype: float64"
      ]
     },
     "execution_count": 10,
     "metadata": {},
     "output_type": "execute_result"
    }
   ],
   "source": [
    "df['CALI']"
   ]
  },
  {
   "cell_type": "markdown",
   "metadata": {},
   "source": [
    "### Well Log Plots"
   ]
  },
  {
   "cell_type": "code",
   "execution_count": null,
   "metadata": {},
   "outputs": [],
   "source": [
    "# Create Plot Function"
   ]
  },
  {
   "cell_type": "code",
   "execution_count": null,
   "metadata": {},
   "outputs": [],
   "source": [
    "def create_plot(wellname, dataframe, curves_to_plot, depth_curve, log_curves=[]):\n",
    "    num_tracks = len(curves_to_plot)\n",
    "    \n",
    "    fig, ax = plt.subplots(nrows=1, ncols=num_tracks, figsize=(num_tracks*2, 10))\n",
    "    fig.suptitle(wellname, fontsize=20, y=1.05)\n",
    "    \n",
    "    for i, curve in enumerate(curves_to_plot):\n",
    "        \n",
    "        \n",
    "        ax[i].plot(dataframe[curve], depth_curve)\n",
    "               \n",
    "        ax[i].set_title(curve, fontsize=14, fontweight='bold')\n",
    "        ax[i].set_ylim(depth_curve.max(), depth_curve.min())\n",
    "        ax[i].grid(which='major', color='lightgrey', linestyle='-')\n",
    "\n",
    "        \n",
    "        if i == 0:\n",
    "            ax[i].set_ylabel('DEPTH (m)', fontsize=18, fontweight='bold')\n",
    "        else:\n",
    "            plt.setp(ax[i].get_yticklabels(), visible = False)\n",
    "        \n",
    "        # Check to see if we have any logarithmic scaled curves\n",
    "        if curve in log_curves:\n",
    "            ax[i].set_xscale('log')\n",
    "            ax[i].grid(which='minor', color='lightgrey', linestyle='-')\n",
    "        \n",
    "        \n",
    "    \n",
    "    plt.tight_layout()\n",
    "    plt.show()"
   ]
  },
  {
   "cell_type": "code",
   "execution_count": null,
   "metadata": {},
   "outputs": [],
   "source": [
    "grouped =df.groupby('wellName')"
   ]
  },
  {
   "cell_type": "code",
   "execution_count": null,
   "metadata": {},
   "outputs": [],
   "source": [
    "dfs_wells = []\n",
    "wellnames = []\n",
    "\n",
    "#Split up the data by well\n",
    "for well, data in grouped:\n",
    "    dfs_wells.append(data)\n",
    "    wellnames.append(well)\n",
    "\n",
    "curves_to_plot = ['BS', 'CALI', 'DT', 'DTS', 'GR', 'NPHI', 'RACEHM', 'RACELM', 'RHOB', 'RPCEHM', 'RPCELM', 'PHIF', 'SW', 'VSH']\n",
    "logarithmic_curves = ['RACEHM', 'RACELM', 'RPCEHM', 'RPCELM']\n",
    "\n",
    "print(wellnames)\n",
    "\n"
   ]
  },
  {
   "cell_type": "code",
   "execution_count": null,
   "metadata": {},
   "outputs": [],
   "source": [
    "well = 0\n",
    "create_plot(wellnames[well], dfs_wells[well], curves_to_plot, dfs_wells[well]['MD'], logarithmic_curves)"
   ]
  },
  {
   "cell_type": "code",
   "execution_count": null,
   "metadata": {},
   "outputs": [],
   "source": [
    "well = 1\n",
    "create_plot(wellnames[well], dfs_wells[well], curves_to_plot, dfs_wells[well]['MD'], logarithmic_curves)"
   ]
  },
  {
   "cell_type": "markdown",
   "metadata": {},
   "source": [
    "### Standard Crossplots"
   ]
  },
  {
   "cell_type": "code",
   "execution_count": null,
   "metadata": {},
   "outputs": [],
   "source": [
    "# Create Den Neu, Ac Den and Ac Neu Xplots\n",
    "import matplotlib\n",
    "def make_xplot(welldata, xvar, yvar,  color, rows=1, cols=1, xscale=[0,1], yscale=[0,1], vmin=0, vmax=1):\n",
    "    fig, axs = plt.subplots(rows, cols, figsize=(25,5))\n",
    "    cmap = matplotlib.colors.LinearSegmentedColormap.from_list(\"\", [\"green\",\"yellow\",\"red\"])\n",
    "    \n",
    "    for (name, welldata), ax in zip(grouped, axs.flat):\n",
    "        sc = ax.scatter(x=xvar, y=yvar, data=welldata, s=5, c=color, vmin=vmin, vmax=vmax, cmap=cmap)\n",
    "#         sns.scatterplot(x=xvar, y=yvar, data=welldata, hue=color, ax=ax, legend=False, palette=\"viridis\")\n",
    "\n",
    "        ax.set_ylim(yscale[0], yscale[1])\n",
    "        ax.set_xlim(xscale[0], xscale[1])\n",
    "        ax.set_ylabel(yvar)\n",
    "        ax.set_xlabel(xvar)\n",
    "        ax.set_title(name)\n",
    "        \n",
    "        fig.colorbar(sc, ax=ax)\n",
    "    plt.tight_layout()\n",
    "    plt.show()"
   ]
  },
  {
   "cell_type": "code",
   "execution_count": null,
   "metadata": {},
   "outputs": [],
   "source": [
    "make_xplot(grouped, 'NPHI', 'RHOB', 'CALI', 1, 5, [-0.15, 0.6], [3.5,1.5], 8.5, 9)"
   ]
  },
  {
   "cell_type": "code",
   "execution_count": null,
   "metadata": {},
   "outputs": [],
   "source": [
    "make_xplot(grouped, 'DT', 'DTS', 'GR', 1, 5, [40, 140], [40, 240], 0, 100)"
   ]
  },
  {
   "cell_type": "markdown",
   "metadata": {},
   "source": [
    "### Seaborn Pairplot"
   ]
  },
  {
   "cell_type": "code",
   "execution_count": null,
   "metadata": {},
   "outputs": [],
   "source": [
    "sns.pairplot(df, vars=['CALI', 'DT','DTS', 'RHOB', 'GR', 'NPHI'], diag_kind='kde', plot_kws = {'alpha': 0.8, 's': 20, 'edgecolor': 'k'})"
   ]
  },
  {
   "cell_type": "code",
   "execution_count": null,
   "metadata": {},
   "outputs": [],
   "source": []
  },
  {
   "cell_type": "markdown",
   "metadata": {},
   "source": [
    "### Correlation Matrix"
   ]
  },
  {
   "cell_type": "code",
   "execution_count": null,
   "metadata": {},
   "outputs": [],
   "source": [
    "corr = df.corr()\n",
    "\n",
    "plt.figure(figsize = (10,10))\n",
    "sns.heatmap(corr, annot=True, cmap='plasma')"
   ]
  },
  {
   "cell_type": "markdown",
   "metadata": {},
   "source": [
    "### Creating Working Dataset"
   ]
  },
  {
   "cell_type": "code",
   "execution_count": null,
   "metadata": {},
   "outputs": [],
   "source": [
    "# Drop BS, RPCELM and RACELM"
   ]
  },
  {
   "cell_type": "code",
   "execution_count": null,
   "metadata": {},
   "outputs": [],
   "source": [
    "# Save DF to Pickle"
   ]
  },
  {
   "cell_type": "code",
   "execution_count": null,
   "metadata": {},
   "outputs": [],
   "source": []
  }
 ],
 "metadata": {
  "kernelspec": {
   "display_name": "Python 3.6.5 64-bit",
   "language": "python",
   "name": "python36564bit5b328c96e5964481b5634e4dffc91a39"
  },
  "language_info": {
   "codemirror_mode": {
    "name": "ipython",
    "version": 3
   },
   "file_extension": ".py",
   "mimetype": "text/x-python",
   "name": "python",
   "nbconvert_exporter": "python",
   "pygments_lexer": "ipython3",
   "version": "3.6.5"
  }
 },
 "nbformat": 4,
 "nbformat_minor": 4
}
