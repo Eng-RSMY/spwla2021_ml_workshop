{
 "cells": [
  {
   "cell_type": "markdown",
   "metadata": {},
   "source": [
    "# SPWLA Workshop on Machine Learning and Artificial Intelligence (12th - 13th May 2021)\n",
    "**Instructors:** Lalitha Venkataramanan (SLB), Chicheng Xu (Aramco), Andy McDonald (LR), Vikas Jain (SLB)\n",
    "\n",
    "This workshop will focus on the applications of Artificial Intelligence (AI) and Machine Learning (ML) to the upstream O&G industry. Consisting of two half-days, the workshop will provide an introduction to machine learning, lay out sample workflows and steps for ML applications and summarize some of the used cases in the industry.\n",
    "\n",
    "The workshop will cover both supervised and unsupervised learning and highlight applications such as QA/QC, outlier detection, facies mapping and learning complex functional mapping.\n",
    "\n",
    "Hands-on tutorials with Python codes to analyze a publicly available data set will also be provided.\n",
    "\n",
    "## Introduction\n",
    "Blurb about the dataset and workshop\n",
    "\n",
    "\n",
    "\n",
    "### Background\n",
    "\n",
    "\n",
    "### Data\n",
    "\n",
    "Five wells:\n",
    "- 15/9-F-1 A\n",
    "- 15/9-F-1 B\n",
    "- 15/9-F-1 C\n",
    "- 15/9-F-11 A\n",
    "- 15/9-F-11 B\n",
    "\n",
    "Input Curves (features):\n",
    "\n",
    "| Curve Name | Units | Description                     |\n",
    "| ---------- | ----- | ------------------------------- |\n",
    "| MD         | m     | Measured Depth                  |\n",
    "| BS         | in    | Bitsize                         |\n",
    "| CALI       | in    | Caliper                         |\n",
    "| DT         | us/ft | Acoustic Compressional Slowness |\n",
    "| DTS        | us/ft | Acoustic Shear Slowness         |\n",
    "| GR         | api   | Gamma Ray                       |\n",
    "| NPHI       | dec   | Neutron Porosity                |\n",
    "| RACEHM     | ohm.m | Resistivity (High Freq. Atten)  |\n",
    "| RACELM     | ohm.m | Resistivity (Low Freq. Atten)   |\n",
    "| RHOB       | g/cc  | Bulk Density                    |\n",
    "| RPCEHM     | ohm.m | Resistivity (High Freq. Phase)  |\n",
    "| RPCELM     | ohm.m | Resistivity (Low Freq. Phase)   |\n",
    "| PHIF       | dec   | Final Porosity                  |\n",
    "| SW         | dec   | Water Saturation                |\n",
    "| VSH        | dec   | Shale Volume                    |\n"
   ]
  },
  {
   "cell_type": "code",
   "execution_count": null,
   "metadata": {},
   "outputs": [],
   "source": []
  }
 ],
 "metadata": {
  "kernelspec": {
   "display_name": "Python 3.6.5 64-bit",
   "language": "python",
   "name": "python36564bit5b328c96e5964481b5634e4dffc91a39"
  },
  "language_info": {
   "codemirror_mode": {
    "name": "ipython",
    "version": 3
   },
   "file_extension": ".py",
   "mimetype": "text/x-python",
   "name": "python",
   "nbconvert_exporter": "python",
   "pygments_lexer": "ipython3",
   "version": "3.6.5"
  }
 },
 "nbformat": 4,
 "nbformat_minor": 4
}
