{
 "cells": [
  {
   "cell_type": "markdown",
   "metadata": {},
   "source": [
    "# References\n",
    "\n",
    "The following are a list of useful papers that are recommended by the authors or have been written by them on the subjects covered in this course.\n",
    "\n",
    "\n",
    "### Data Quality\n",
    "Al-Daghar, Khadeeja A., Atfeh, Mudar M., Aal, Atef F., Jain, Vikas , Murray, Doug R., Minh, Chanh Cao, and Kais Gzara. (2015) \"Invasion Corrected Fluid Saturations, from Standalone Consonant Nuclear Measurements, Using Canonical-Correlation Analysis (CCA) of Logging-While-Drilling (LWD) Time-Lapse Data.\" Paper presented at the SPE Middle East Oil & Gas Show and Conference, Manama, Bahrain, March 2015. doi: https://doi.org/10.2118/172540-MS\n",
    "\n",
    "Banas, R., McDonald, A., and Perkins, T. J., (2021). Novel Methodology for Automation of Bad Well Log Data Identification and Repair. SPWLA 62nd Annual Logging Symposium 2021.\n",
    "\n",
    "Kraishan, Ghazi M., Al-Belowi, Ali R., Rahim, Zulkifly B. Ab, Aramco, Saudi, Gzara, Kais, Minh, Chanh Cao, Jain, Vikas, and Patrick A. Hibler. (2014) \"Fluid Typing in Variable Water Salinity Environments: Application of Geodesic Transformations of LWD Time-Lapse Measurements.\" Paper presented at the SPWLA 55th Annual Logging Symposium, Abu Dhabi, United Arab Emirates, May 2014.\n",
    "\n",
    "McDonald, A. (2021). Data Quality Considerations for Petrophysical Machine Learning Models. SPWLA 62nd Annual Logging Symposium 2021.\n",
    "\n",
    "Storey, M. C. (2016). Demystifying log quality control. Society of Petroleum Engineers - SPE Asia Pacific Oil and Gas Conference and Exhibition 2016, (October), 25–27. https://doi.org/10.2118/182313-ms\n",
    "\n",
    "\n",
    "### Outlier Detection\n",
    "\n",
    "Akkurt, R., Conroy, T. T., Psaila, D., Paxton, A., Low, J., & Spaans, P. (2018). Accelerating and enhancing petrophysical analysis with machine learning: A case study of an automated system for well log outlier detection and reconstruction. In SPWLA 59th Annual Logging Symposium 2018.\n",
    "\n",
    "Misra, S., Osogba, O., & Powers, M. (2020). Unsupervised outlier detection techniques for well logs and geophysical data. In Machine Learning for Subsurface Characterization (pp. 1–37). Elsevier. https://doi.org/10.1016/B978-0-12-817736-5.00001-6\n",
    "\n",
    "### Machine Learning (General)\n",
    "Al Daghar, Khadija, Budebes, Sultan, Minh, Chanh Cao, Gzara, Kais, Jain, Vikas, and David Maggs. (2020) \"A Data-Driven Graphical Method to Evaluate Gas Reservoirs with Density–Neutron Logs.\" Paper presented at the SPWLA 61st Annual Logging Symposium, Virtual Online Webinar, June 2020. doi: https://doi.org/10.30632/SPWLA-5067\n",
    "\n",
    "Jain, Vikas , Gzara, Kais , Makarychev, Gennady , Minh, Chanh Cao, and Denis Heliot. (2015) \"Maximizing Information through Data Driven Analytics in Petrophysical Evaluation of Well Logs.\" Paper presented at the SPE Annual Technical Conference and Exhibition, Houston, Texas, USA, September 2015. doi: https://doi.org/10.2118/174735-MS\n",
    "\n",
    "Jain, Vikas, Wu, Po-Yen, Akkurt, Ridvan, Hodenfield, Brooke, Jiang, Tianmin, Maehara, Yuki, Sharma, Vipin, and Aria Abubakar. (2019) \"Class-Based Machine Learning for Next-Generation Wellbore Data Processing and Interpretation.\" Paper presented at the SPWLA 60th Annual Logging Symposium, The Woodlands, Texas, USA, June 2019. doi: https://doi.org/10.30632/T60ALS-2019_SS\n",
    "\n",
    "Xu, C., Misra, S., Srinivasan, P., & Ma, S. (2019). When petrophysics meets big data: What can machine do? SPE Middle East Oil and Gas Show and Conference, MEOS, Proceedings, 2019-March(Ml). https://doi.org/10.2118/195068-ms\n",
    "\n",
    "\n",
    "\n",
    "### Supervised Learning\n",
    "\n",
    "Deng, Tianqi, Xu, Chicheng, Jobe, Dawn, and Rui Xu. (2019) \"A Comparative Study of Three Supervised Machine-Learning Algorithms for Classifying Carbonate Vuggy Facies in the Kansas Arbuckle Formation.\" Petrophysics 60 (2019): 838–853. doi: https://doi.org/10.30632/PJV60N6-2019a8\n",
    "\n",
    "Deng, T., Xu, C., Lang, X. et al. Diagenetic Facies Classification in the Arbuckle Formation Using Deep Neural Networks. Math Geosci (2021). https://doi.org/10.1007/s11004-021-09918-0\n",
    "\n",
    "Haller, C. (2020). Equinor Volve Log ML. https://www.christianhaller.me/blog/projectblog/2021-02-01-Volve_ML/\n",
    "\n",
    "Nuwara, Y. (2020). Prediction of P-Sonic Log in the Volve Oil Field using Machine Learning. https://towardsdatascience.com/prediction-of-p-sonic-log-in-the-volve-oil-field-using-machine-learning-9a4afdb92fe8\n",
    "\n",
    "Wu, Po-Yen, Jain, Vikas, Kulkarni, Mandar S, and Aria Abubakar. (2018) \"Machine learning-based method for automated well-log processing and interpretation.\" Paper presented at the 2018 SEG International Exposition and Annual Meeting, Anaheim, California, USA, October 2018. doi: https://doi.org/10.1190/segam2018-2996973.1\n",
    "\n",
    "Xu, Rui , Deng, Tianqi , Jiang, Jiajun , Jobe, Dawn , and Chicheng Xu. (2020) \"Integration of NMR and Conventional Logs for Vuggy Facies Classification in the Arbuckle Formation: A Machine Learning Approach.\" SPE Res Eval & Eng 23 (2020): 917–929. doi: https://doi.org/10.2118/201102-PA\n",
    "\n",
    "R. Kausik, A. Prado, L.Venkataramanan, H. Datir, Y.Johansen., “Dual neural network architecture for determining permeability and associated uncertainty” SPWLA 61th Annual Logging Symposium, 2020\n",
    "\n",
    "§  A. Prado, R. Kausik, L. Venkataramanan., “Dual Neural Network Architecture for Determining Epistemic and Aleatoric Uncertainties” arXiv:1910.06153, 2019\n",
    "\n",
    "A. Prado, R. Kausik, L. Venkataramanan, \"Dual neural network architecture to determine aleosteric and epistemic uncertianties\", NEURIPS, 2019 https://arxiv.org/abs/1910.06153\n",
    "\n",
    "### Unsupervised Learning\n",
    "Jain, Vikas, Minh, Chanh Cao, Heaton, Nick, Ferraris, Paolo, Ortenzi, Luca, and Mauro Torres Ribeiro. (2013) \"Characterization of Underlying Pore and Fluid Structure Using Factor Analysis on NMR Data.\" Paper presented at the SPWLA 54th Annual Logging Symposium, New Orleans, Louisiana, June 2013.\n",
    "\n",
    "M. Gkortsas, L. Liang, L. Venkataramanan, H. Datir, Y. Johansen, \"Automatic facies classification from well logs\", SPWLA 61th Annual Logging Symposium, 2020\n",
    "\n",
    "### Feature Selection / Engineering\n",
    "Arkalgud, R., McDonald, A., and Brackenridge, R. (2021) Automated Selection of Inputs for Log Prediction Models Using a New Feature Selection Method, SPWLA 62nd Annual Logging Symposium\n",
    "\n",
    "### Uncertainty Quantification\n",
    "\n",
    "R. Kausik, A. Prado, L.Venkataramanan, H. Datir, Y.Johansen., “Dual neural network architecture for determining permeability and associated uncertainty” SPWLA 61th Annual Logging Symposium, 2021\n",
    "\n",
    "Gal, Yarin, and Zoubin Ghahramani. “Dropout as a Bayesian approximation: Representing model uncertainty in deep learning.”  international conference on machine learning. 2016.\n",
    "\n",
    "Gal, Yarin, Jiri Hron, and Alex Kendall. “Concrete dropout.” Advances in Neural Information Processing Systems. 2017.\n",
    "\n",
    "UQ in machine learning: L. Venkataramanan, Feb 2020, https://www.youtube.com/watch?v=ZfECTKuXdtw\n"
   ]
  },
  {
   "cell_type": "markdown",
   "metadata": {},
   "source": [
    "\n"
   ]
  }
 ],
 "metadata": {
  "kernelspec": {
   "display_name": "Python 3.6.5 64-bit",
   "language": "python",
   "name": "python36564bit5b328c96e5964481b5634e4dffc91a39"
  },
  "language_info": {
   "codemirror_mode": {
    "name": "ipython",
    "version": 3
   },
   "file_extension": ".py",
   "mimetype": "text/x-python",
   "name": "python",
   "nbconvert_exporter": "python",
   "pygments_lexer": "ipython3",
   "version": "3.6.5"
  }
 },
 "nbformat": 4,
 "nbformat_minor": 4
}
