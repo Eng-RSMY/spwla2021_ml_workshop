{
 "cells": [
  {
   "cell_type": "markdown",
   "metadata": {},
   "source": [
    "# 1. Import libraries"
   ]
  },
  {
   "cell_type": "code",
   "execution_count": 1,
   "metadata": {},
   "outputs": [],
   "source": [
    "import pandas as pd\n",
    "import numpy as np\n",
    "import keras\n",
    "from keras import backend as K\n",
    "from keras.layers import Input, Dense, Dropout\n",
    "from keras.layers.advanced_activations import PReLU\n",
    "from keras.models import Model\n",
    "from keras.optimizers import Adamax\n",
    "import math\n",
    "import matplotlib\n",
    "import matplotlib.pyplot as plt\n",
    "from sklearn.utils import shuffle\n",
    "import matplotlib\n",
    "import matplotlib.pyplot as plt\n"
   ]
  },
  {
   "cell_type": "markdown",
   "metadata": {},
   "source": [
    "# 2. Import Triple combo data for training and validation\n"
   ]
  },
  {
   "cell_type": "markdown",
   "metadata": {},
   "source": [
    "### 2.1. Define (data, fixed parameters, network architecture)"
   ]
  },
  {
   "cell_type": "code",
   "execution_count": 2,
   "metadata": {},
   "outputs": [],
   "source": [
    "# Model fixed parameters\n",
    "NInputs = 3 # Number of features (model inputs)\n",
    "NOutputs = 1 # Number of targets (model outputs)"
   ]
  },
  {
   "cell_type": "code",
   "execution_count": 18,
   "metadata": {},
   "outputs": [],
   "source": [
    "# Import training data (model inputs & outputs)\n",
    "Feature = pd.read_csv('TrainingAndValFeature.csv', header = None)\n",
    "Feature = np.asarray(Feature)\n",
    "Target = pd.read_csv('TrainingAndValTarget.csv', header = None)\n",
    "Target = np.asarray(Target)\n",
    "# Index and split training set into training and validation\n",
    "indx = np.asarray(list(range(Feature.shape[0]))) # orig\n",
    "\n",
    "indx2 = shuffle(indx)\n",
    "NSamples = len(indx2)\n",
    "train_index = indx2[0:int(0.8*NSamples)]\n",
    "val_index = indx2[int(0.8*NSamples):]\n"
   ]
  },
  {
   "cell_type": "code",
   "execution_count": 14,
   "metadata": {},
   "outputs": [
    {
     "data": {
      "text/plain": [
       "<function ndarray.flatten>"
      ]
     },
     "execution_count": 14,
     "metadata": {},
     "output_type": "execute_result"
    }
   ],
   "source": [
    "Feature.flatten"
   ]
  },
  {
   "cell_type": "code",
   "execution_count": 19,
   "metadata": {},
   "outputs": [
    {
     "data": {
      "text/plain": [
       "(4000, 3)"
      ]
     },
     "execution_count": 19,
     "metadata": {},
     "output_type": "execute_result"
    }
   ],
   "source": [
    "Feature.shape"
   ]
  },
  {
   "cell_type": "code",
   "execution_count": 20,
   "metadata": {},
   "outputs": [
    {
     "data": {
      "text/plain": [
       "(4000, 1)"
      ]
     },
     "execution_count": 20,
     "metadata": {},
     "output_type": "execute_result"
    }
   ],
   "source": [
    "Target.shape"
   ]
  },
  {
   "cell_type": "code",
   "execution_count": 4,
   "metadata": {},
   "outputs": [
    {
     "name": "stdout",
     "output_type": "stream",
     "text": [
      "Model: \"model\"\n",
      "_________________________________________________________________\n",
      "Layer (type)                 Output Shape              Param #   \n",
      "=================================================================\n",
      "input_1 (InputLayer)         [(None, 3)]               0         \n",
      "_________________________________________________________________\n",
      "dense (Dense)                (None, 100)               400       \n",
      "_________________________________________________________________\n",
      "p_re_lu (PReLU)              (None, 100)               100       \n",
      "_________________________________________________________________\n",
      "dropout (Dropout)            (None, 100)               0         \n",
      "_________________________________________________________________\n",
      "dense_1 (Dense)              (None, 100)               10100     \n",
      "_________________________________________________________________\n",
      "p_re_lu_1 (PReLU)            (None, 100)               100       \n",
      "_________________________________________________________________\n",
      "dropout_1 (Dropout)          (None, 100)               0         \n",
      "_________________________________________________________________\n",
      "dense_2 (Dense)              (None, 1)                 101       \n",
      "=================================================================\n",
      "Total params: 10,801\n",
      "Trainable params: 10,801\n",
      "Non-trainable params: 0\n",
      "_________________________________________________________________\n"
     ]
    }
   ],
   "source": [
    "rate = 0.1\n",
    "\n",
    "def nn():\n",
    "    NN_ip = Input(shape=(NInputs,))\n",
    "    x = Dense(100)(NN_ip)\n",
    "    x = PReLU()(x)\n",
    "    x = Dropout(rate)(x)\n",
    "    x = Dense(100)(x)\n",
    "    x = PReLU()(x)\n",
    "    x = Dropout(rate)(x)\n",
    "    NN_op = Dense(NOutputs)(x)\n",
    "       \n",
    "    NN_model = Model(NN_ip, NN_op)\n",
    "    \n",
    "    def loss_mse(true, pred):\n",
    "        mean = pred[:, :NOutputs]\n",
    "        return K.mean(K.square(true - mean), -1)\n",
    "\n",
    "    def metric_mse(y_true, y_pred):\n",
    "        mean = y_pred[:, :NOutputs]\n",
    "        return K.mean(K.square(y_true - mean), -1)\n",
    "    \n",
    "    opt = Adamax(1e-3)\n",
    "    \n",
    "    NN_model.compile(loss = loss_mse, optimizer = opt, metrics = [metric_mse])\n",
    "    \n",
    "    return NN_model\n",
    "\n",
    "NN = nn()\n",
    "NN.summary()"
   ]
  },
  {
   "cell_type": "markdown",
   "metadata": {},
   "source": [
    "### 2.2. Train"
   ]
  },
  {
   "cell_type": "code",
   "execution_count": 21,
   "metadata": {},
   "outputs": [
    {
     "name": "stdout",
     "output_type": "stream",
     "text": [
      "Epoch 1/10\n",
      "7/7 [==============================] - 2s 98ms/step - loss: 0.0337 - metric_mse: 0.0337 - val_loss: 0.0080 - val_metric_mse: 0.0080\n",
      "Epoch 2/10\n",
      "7/7 [==============================] - 0s 18ms/step - loss: 0.0073 - metric_mse: 0.0073 - val_loss: 0.0041 - val_metric_mse: 0.0041\n",
      "Epoch 3/10\n",
      "7/7 [==============================] - 0s 20ms/step - loss: 0.0045 - metric_mse: 0.0045 - val_loss: 0.0038 - val_metric_mse: 0.0038\n",
      "Epoch 4/10\n",
      "7/7 [==============================] - 0s 50ms/step - loss: 0.0037 - metric_mse: 0.0037 - val_loss: 0.0025 - val_metric_mse: 0.0025\n",
      "Epoch 5/10\n",
      "7/7 [==============================] - 0s 22ms/step - loss: 0.0029 - metric_mse: 0.0029 - val_loss: 0.0023 - val_metric_mse: 0.0023\n",
      "Epoch 6/10\n",
      "7/7 [==============================] - 0s 18ms/step - loss: 0.0028 - metric_mse: 0.0028 - val_loss: 0.0022 - val_metric_mse: 0.0022\n",
      "Epoch 7/10\n",
      "7/7 [==============================] - 0s 17ms/step - loss: 0.0026 - metric_mse: 0.0026 - val_loss: 0.0020 - val_metric_mse: 0.0020\n",
      "Epoch 8/10\n",
      "7/7 [==============================] - 0s 17ms/step - loss: 0.0024 - metric_mse: 0.0024 - val_loss: 0.0018 - val_metric_mse: 0.0018\n",
      "Epoch 9/10\n",
      "7/7 [==============================] - 0s 17ms/step - loss: 0.0023 - metric_mse: 0.0023 - val_loss: 0.0018 - val_metric_mse: 0.0018\n",
      "Epoch 10/10\n",
      "7/7 [==============================] - 0s 15ms/step - loss: 0.0022 - metric_mse: 0.0022 - val_loss: 0.0017 - val_metric_mse: 0.0017\n"
     ]
    }
   ],
   "source": [
    "Feature_Train, Feature_Val = Feature[train_index], Feature[val_index]\n",
    "Target_Train, Target_Val = Target[train_index], Target[val_index]\n",
    "               \n",
    "NN = nn()\n",
    "\n",
    "history = NN.fit(Feature_Train, Target_Train, \n",
    "                     epochs = 10, \n",
    "                     batch_size = int(Feature.shape[0]/8), \n",
    "                     shuffle = True, \n",
    "                     validation_data = (Feature_Val, Target_Val))\n",
    "    \n"
   ]
  },
  {
   "cell_type": "code",
   "execution_count": 22,
   "metadata": {},
   "outputs": [
    {
     "data": {
      "text/plain": [
       "[<matplotlib.lines.Line2D at 0x17ba4fe9da0>]"
      ]
     },
     "execution_count": 22,
     "metadata": {},
     "output_type": "execute_result"
    },
    {
     "data": {
      "image/png": "[encoded data removed]",
      "text/plain": [
       "<Figure size 432x288 with 1 Axes>"
      ]
     },
     "metadata": {
      "needs_background": "light"
     },
     "output_type": "display_data"
    }
   ],
   "source": [
    "plt.plot(history.history['val_loss'][0:],'r')\n",
    "plt.plot(history.history['loss'][0:],'k')"
   ]
  },
  {
   "cell_type": "code",
   "execution_count": 23,
   "metadata": {},
   "outputs": [
    {
     "data": {
      "text/plain": [
       "[<matplotlib.lines.Line2D at 0x17ba3db8048>]"
      ]
     },
     "execution_count": 23,
     "metadata": {},
     "output_type": "execute_result"
    },
    {
     "data": {
      "image/png": "[encoded data removed]",
      "text/plain": [
       "<Figure size 432x288 with 1 Axes>"
      ]
     },
     "metadata": {
      "needs_background": "light"
     },
     "output_type": "display_data"
    }
   ],
   "source": [
    "plt.plot(history.history['val_metric_mse'][0:],'r')\n",
    "plt.plot(history.history['metric_mse'][0:],'k')"
   ]
  },
  {
   "cell_type": "markdown",
   "metadata": {},
   "source": [
    "# 3. Import Test data"
   ]
  },
  {
   "cell_type": "code",
   "execution_count": 26,
   "metadata": {},
   "outputs": [],
   "source": [
    "# Import training data (model inputs & outputs)\n",
    "Test_Features = pd.read_csv('Test_Features.csv', header = None)\n",
    "Test_Features = np.asarray(Test_Features)\n",
    "Test_Target = pd.read_csv('Test_Target.csv', header = None)\n",
    "Test_Target = np.asarray(Test_Target)"
   ]
  },
  {
   "cell_type": "code",
   "execution_count": 27,
   "metadata": {},
   "outputs": [],
   "source": [
    "PredictedTarget = NN.predict(Test_Features)"
   ]
  },
  {
   "cell_type": "markdown",
   "metadata": {},
   "source": [
    "### 3.1 Plot the predicted target versus the Test_target"
   ]
  },
  {
   "cell_type": "code",
   "execution_count": 28,
   "metadata": {},
   "outputs": [
    {
     "data": {
      "image/png": "[encoded data removed]",
      "text/plain": [
       "<Figure size 432x432 with 1 Axes>"
      ]
     },
     "metadata": {
      "needs_background": "light"
     },
     "output_type": "display_data"
    }
   ],
   "source": [
    "plt.figure(figsize = (6,6))\n",
    "plt.style.use('seaborn-white')\n",
    "plt.scatter(Test_Target, PredictedTarget)\n",
    "plt.plot(np.linspace(0, 0.8, 2), np.linspace(0, 0.8, 2), color = 'r', alpha = 0.5)\n",
    "plt.xlabel('Reference', FontSize = 16)\n",
    "plt.ylabel('Predicted', FontSize = 16)\n",
    "plt.show()\n"
   ]
  },
  {
   "cell_type": "code",
   "execution_count": 17,
   "metadata": {},
   "outputs": [
    {
     "data": {
      "text/plain": [
       "(100, 1)"
      ]
     },
     "execution_count": 17,
     "metadata": {},
     "output_type": "execute_result"
    }
   ],
   "source": []
  },
  {
   "cell_type": "code",
   "execution_count": null,
   "metadata": {},
   "outputs": [],
   "source": []
  }
 ],
 "metadata": {
  "kernelspec": {
   "display_name": "Python 3.6.5 64-bit",
   "language": "python",
   "name": "python36564bit5b328c96e5964481b5634e4dffc91a39"
  },
  "language_info": {
   "codemirror_mode": {
    "name": "ipython",
    "version": 3
   },
   "file_extension": ".py",
   "mimetype": "text/x-python",
   "name": "python",
   "nbconvert_exporter": "python",
   "pygments_lexer": "ipython3",
   "version": "3.6.5"
  }
 },
 "nbformat": 4,
 "nbformat_minor": 4
}
