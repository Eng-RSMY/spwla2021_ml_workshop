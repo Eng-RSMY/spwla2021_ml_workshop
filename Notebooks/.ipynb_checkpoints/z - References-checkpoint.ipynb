{
 "cells": [
  {
   "cell_type": "markdown",
   "metadata": {},
   "source": [
    "# References\n",
    "\n",
    "The following are a list of useful papers that are recommended by the authors or have been written by them on the subjects covered in this course.\n",
    "\n",
    "\n",
    "### Data Quality\n",
    "McDonald, A. (2021). Data Quality Considerations for Petrophysical Machine Learning Models. SPWLA 62nd Annual Logging Symposium 2021.\n",
    "\n",
    "Storey, M. C. (2016). Demystifying log quality control. Society of Petroleum Engineers - SPE Asia Pacific Oil and Gas Conference and Exhibition 2016, (October), 25–27. https://doi.org/10.2118/182313-ms\n",
    "\n",
    "\n",
    "### Outlier Detection\n",
    "\n",
    "Akkurt, R., Conroy, T. T., Psaila, D., Paxton, A., Low, J., & Spaans, P. (2018). Accelerating and enhancing petrophysical analysis with machine learning: A case study of an automated system for well log outlier detection and reconstruction. In SPWLA 59th Annual Logging Symposium 2018.\n",
    "\n",
    "Misra, S., Osogba, O., & Powers, M. (2020). Unsupervised outlier detection techniques for well logs and geophysical data. In Machine Learning for Subsurface Characterization (pp. 1–37). Elsevier. https://doi.org/10.1016/B978-0-12-817736-5.00001-6\n",
    "\n",
    "### Machine Learning (General)\n",
    "Xu, C., Misra, S., Srinivasan, P., & Ma, S. (2019). When petrophysics meets big data: What can machine do? SPE Middle East Oil and Gas Show and Conference, MEOS, Proceedings, 2019-March(Ml). https://doi.org/10.2118/195068-ms\n",
    "\n",
    "### Supervised Learning\n",
    "\n",
    "Deng, Tianqi, Xu, Chicheng, Jobe, Dawn, and Rui Xu. \"A Comparative Study of Three Supervised Machine-Learning Algorithms for Classifying Carbonate Vuggy Facies in the Kansas Arbuckle Formation.\" Petrophysics 60 (2019): 838–853. doi: https://doi.org/10.30632/PJV60N6-2019a8\n",
    "\n",
    "Xu, Rui , Deng, Tianqi , Jiang, Jiajun , Jobe, Dawn , and Chicheng Xu. \"Integration of NMR and Conventional Logs for Vuggy Facies Classification in the Arbuckle Formation: A Machine Learning Approach.\" SPE Res Eval & Eng 23 (2020): 917–929. doi: https://doi.org/10.2118/201102-PA\n",
    "\n",
    "### Unsupervised Learning\n",
    "\n",
    "### Feature Selection / Engineering\n"
   ]
  },
  {
   "cell_type": "code",
   "execution_count": null,
   "metadata": {},
   "outputs": [],
   "source": []
  }
 ],
 "metadata": {
  "kernelspec": {
   "display_name": "Python 3.6.5 64-bit",
   "language": "python",
   "name": "python36564bit5b328c96e5964481b5634e4dffc91a39"
  },
  "language_info": {
   "codemirror_mode": {
    "name": "ipython",
    "version": 3
   },
   "file_extension": ".py",
   "mimetype": "text/x-python",
   "name": "python",
   "nbconvert_exporter": "python",
   "pygments_lexer": "ipython3",
   "version": "3.6.5"
  }
 },
 "nbformat": 4,
 "nbformat_minor": 4
}
